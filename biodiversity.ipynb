{
 "cells": [
  {
   "cell_type": "markdown",
   "metadata": {},
   "source": [
    "# Introduction\n",
    "\n",
    "The purpose of this project is to analyze species biodiversity from the National Park Service. \n",
    "\n",
    "This project will use various forms of data visualization to help explain the findings. And some statistical methods to find significance.\n",
    "\n",
    "This project seeks to answer the following questions:\n",
    "\n",
    "\n",
    " - What is the distribution of the conservation status of the animals?\n",
    " - What is the distribution of endangered species?\n",
    " - What species were spotted most at each park?\n",
    " - Are the differences between species and their conservation status significant?\n",
    "\n",
    "This project will use 2 CSV files. `Observations.csv` has the number of observations of each species and what park. And `Species.csv` has the category(of the species e.g. bird or mammal), common name, and conservation status of each species.\n",
    "\n",
    "The data is `based on real data and is not real`. This dataset is provided by Codecademy."
   ]
  },
  {
   "cell_type": "markdown",
   "metadata": {
    "jp-MarkdownHeadingCollapsed": true
   },
   "source": [
    "## Goals and Perspective\n",
    "\n",
    "\n",
    "The perspective of this project will be a data analyst for the National Park Service. They are looking for trends in the data and answering the questions above. The National Park Service wants to improve or maintain the current biodiversity at their parks. \n",
    "\n",
    "This project will be split into three parts.\n",
    "\n",
    "### Loading and Exploring the data\n",
    "In this section, the data will be loaded so it can be used. In this section, the data will be discussed.\n",
    "\n",
    "### Analysis\n",
    "In this section, the questions posed in the introduction will be answered. And any other notable trends will be talked about.\n",
    "\n",
    "### Conclusion \n",
    "Finally, the findings and their practical use will be discussed. And the potential flaws of the analysis will be discussed."
   ]
  },
  {
   "cell_type": "markdown",
   "metadata": {},
   "source": [
    "# Loading and Exploring the Data"
   ]
  },
  {
   "cell_type": "markdown",
   "metadata": {},
   "source": [
    "### Import Python Modules"
   ]
  },
  {
   "cell_type": "code",
   "execution_count": 5,
   "metadata": {},
   "outputs": [],
   "source": [
    "import pandas as pd\n",
    "import matplotlib.pyplot as plt"
   ]
  },
  {
   "cell_type": "markdown",
   "metadata": {},
   "source": [
    "## Load the data\n",
    "\n",
    "In this project, I will be using mostly pandas data frames. We can directly load the data from the CSV files into data frames using Pandas. We can use a df to perform many kinds of analysis.\n",
    "\n",
    "In this project `df` is an abbreviation that stands for dataframe."
   ]
  },
  {
   "cell_type": "code",
   "execution_count": 7,
   "metadata": {},
   "outputs": [],
   "source": [
    "observations_df = pd.read_csv('observations.csv') # loads observation.csv into a df(dataframe)\n",
    "species_df = pd.read_csv('species_info.csv') # loads species.csv into a df(dataframe)"
   ]
  },
  {
   "cell_type": "markdown",
   "metadata": {},
   "source": [
    "## Species Data Exploring\n",
    "\n",
    "We'll start with the species data. The CSV contains four columns.\n",
    "\n",
    "- category(e.g. Mammal, bird, reptile)\n",
    "- scientific_name(the scientific name of the animal)\n",
    "- common_names(the common name of the animal e.g. Fox, Elk, Bison, Deer, Sheep, etc)\n",
    "- conservation_status(the status of conservation for the animal)"
   ]
  },
  {
   "cell_type": "code",
   "execution_count": 100,
   "metadata": {},
   "outputs": [
    {
     "name": "stdout",
     "output_type": "stream",
     "text": [
      "category               object\n",
      "scientific_name        object\n",
      "common_names           object\n",
      "conservation_status    object\n",
      "dtype: object\n"
     ]
    },
    {
     "data": {
      "text/html": [
       "<div>\n",
       "<style scoped>\n",
       "    .dataframe tbody tr th:only-of-type {\n",
       "        vertical-align: middle;\n",
       "    }\n",
       "\n",
       "    .dataframe tbody tr th {\n",
       "        vertical-align: top;\n",
       "    }\n",
       "\n",
       "    .dataframe thead th {\n",
       "        text-align: right;\n",
       "    }\n",
       "</style>\n",
       "<table border=\"1\" class=\"dataframe\">\n",
       "  <thead>\n",
       "    <tr style=\"text-align: right;\">\n",
       "      <th></th>\n",
       "      <th>category</th>\n",
       "      <th>scientific_name</th>\n",
       "      <th>common_names</th>\n",
       "      <th>conservation_status</th>\n",
       "    </tr>\n",
       "  </thead>\n",
       "  <tbody>\n",
       "    <tr>\n",
       "      <th>0</th>\n",
       "      <td>Mammal</td>\n",
       "      <td>Clethrionomys gapperi gapperi</td>\n",
       "      <td>Gapper's Red-Backed Vole</td>\n",
       "      <td>NaN</td>\n",
       "    </tr>\n",
       "    <tr>\n",
       "      <th>1</th>\n",
       "      <td>Mammal</td>\n",
       "      <td>Bos bison</td>\n",
       "      <td>American Bison, Bison</td>\n",
       "      <td>NaN</td>\n",
       "    </tr>\n",
       "    <tr>\n",
       "      <th>2</th>\n",
       "      <td>Mammal</td>\n",
       "      <td>Bos taurus</td>\n",
       "      <td>Aurochs, Aurochs, Domestic Cattle (Feral), Dom...</td>\n",
       "      <td>NaN</td>\n",
       "    </tr>\n",
       "    <tr>\n",
       "      <th>3</th>\n",
       "      <td>Mammal</td>\n",
       "      <td>Ovis aries</td>\n",
       "      <td>Domestic Sheep, Mouflon, Red Sheep, Sheep (Feral)</td>\n",
       "      <td>NaN</td>\n",
       "    </tr>\n",
       "    <tr>\n",
       "      <th>4</th>\n",
       "      <td>Mammal</td>\n",
       "      <td>Cervus elaphus</td>\n",
       "      <td>Wapiti Or Elk</td>\n",
       "      <td>NaN</td>\n",
       "    </tr>\n",
       "  </tbody>\n",
       "</table>\n",
       "</div>"
      ],
      "text/plain": [
       "  category                scientific_name  \\\n",
       "0   Mammal  Clethrionomys gapperi gapperi   \n",
       "1   Mammal                      Bos bison   \n",
       "2   Mammal                     Bos taurus   \n",
       "3   Mammal                     Ovis aries   \n",
       "4   Mammal                 Cervus elaphus   \n",
       "\n",
       "                                        common_names conservation_status  \n",
       "0                           Gapper's Red-Backed Vole                 NaN  \n",
       "1                              American Bison, Bison                 NaN  \n",
       "2  Aurochs, Aurochs, Domestic Cattle (Feral), Dom...                 NaN  \n",
       "3  Domestic Sheep, Mouflon, Red Sheep, Sheep (Feral)                 NaN  \n",
       "4                                      Wapiti Or Elk                 NaN  "
      ]
     },
     "execution_count": 100,
     "metadata": {},
     "output_type": "execute_result"
    }
   ],
   "source": [
    "print(species_df.dtypes)\n",
    "species_df.head() # prints first 5 rows"
   ]
  },
  {
   "cell_type": "markdown",
   "metadata": {},
   "source": [
    "All of the datatypes are objects. However, at the moment we do not need to change any columns to floats or int. In fact there's no numerical data in any of these columns."
   ]
  },
  {
   "cell_type": "markdown",
   "metadata": {},
   "source": [
    "### Looking for Null values"
   ]
  },
  {
   "cell_type": "code",
   "execution_count": 12,
   "metadata": {},
   "outputs": [
    {
     "name": "stdout",
     "output_type": "stream",
     "text": [
      "5633\n",
      "191\n",
      "[nan 'Species of Concern' 'Endangered' 'Threatened' 'In Recovery']\n"
     ]
    }
   ],
   "source": [
    "print(species_df['conservation_status'].isnull().sum()) # total number of null values\n",
    "num_not_null = len(species_df['conservation_status']) - species_df['conservation_status'].isnull().sum() # total number of non-null values\n",
    "print(num_not_null)\n",
    "print(species_df['conservation_status'].unique()) # categories of conservation"
   ]
  },
  {
   "cell_type": "markdown",
   "metadata": {},
   "source": [
    "The first five rows of the conservation_status column are NaN or null. NaN which stands for `not a number` is also known as null and used to represent undefined data.\n",
    "\n",
    "The `total length` of the species data frame is `5824`.\n",
    "\n",
    "The species data frame has `5633` Nan or `null` values in the conservations_status column.\n",
    "\n",
    "`191` are `not null`. \n",
    "\n",
    "In the `conservation status column` there are `four categories` of conservation not including null:\n",
    "\n",
    "- Species of Concern\n",
    "- Endangered\n",
    "- Threatened\n",
    "- In Recovery\n",
    "\n",
    "Data with NaN or null values needs to be handled carefully. \n",
    "There are a few different methods that can be used. However, for the sake of this project and data, `any row without a conservation status likely means the animal does not have a conservation status`.\n"
   ]
  },
  {
   "cell_type": "code",
   "execution_count": 14,
   "metadata": {},
   "outputs": [
    {
     "name": "stdout",
     "output_type": "stream",
     "text": [
      "Total number of species: 5541\n"
     ]
    }
   ],
   "source": [
    "print(f\"Total number of species: {species_df.scientific_name.nunique()}\")"
   ]
  },
  {
   "cell_type": "code",
   "execution_count": 15,
   "metadata": {},
   "outputs": [
    {
     "data": {
      "text/plain": [
       "array(['Mammal', 'Bird', 'Reptile', 'Amphibian', 'Fish', 'Vascular Plant',\n",
       "       'Nonvascular Plant'], dtype=object)"
      ]
     },
     "execution_count": 15,
     "metadata": {},
     "output_type": "execute_result"
    }
   ],
   "source": [
    "category_list = species_df['category'].unique() # a list of the count of each animals catrgory\n",
    "category_list"
   ]
  },
  {
   "cell_type": "markdown",
   "metadata": {},
   "source": [
    "There are `seven` different categories of animals in the species data. With `5541` different kinds of species. We will explore the distribution of these categoires later."
   ]
  },
  {
   "cell_type": "markdown",
   "metadata": {},
   "source": [
    "## Observations Data Exploring\n",
    "\n",
    "The observation data is made up of three columns:\n",
    "\n",
    "- Scientific_name(scientific name of the animal)\n",
    "- park_name(the name of the park)\n",
    "- observations(number of observations of that animal)"
   ]
  },
  {
   "cell_type": "code",
   "execution_count": 18,
   "metadata": {},
   "outputs": [
    {
     "name": "stdout",
     "output_type": "stream",
     "text": [
      "scientific_name    object\n",
      "park_name          object\n",
      "observations        int64\n",
      "dtype: object\n"
     ]
    },
    {
     "data": {
      "text/html": [
       "<div>\n",
       "<style scoped>\n",
       "    .dataframe tbody tr th:only-of-type {\n",
       "        vertical-align: middle;\n",
       "    }\n",
       "\n",
       "    .dataframe tbody tr th {\n",
       "        vertical-align: top;\n",
       "    }\n",
       "\n",
       "    .dataframe thead th {\n",
       "        text-align: right;\n",
       "    }\n",
       "</style>\n",
       "<table border=\"1\" class=\"dataframe\">\n",
       "  <thead>\n",
       "    <tr style=\"text-align: right;\">\n",
       "      <th></th>\n",
       "      <th>scientific_name</th>\n",
       "      <th>park_name</th>\n",
       "      <th>observations</th>\n",
       "    </tr>\n",
       "  </thead>\n",
       "  <tbody>\n",
       "    <tr>\n",
       "      <th>0</th>\n",
       "      <td>Vicia benghalensis</td>\n",
       "      <td>Great Smoky Mountains National Park</td>\n",
       "      <td>68</td>\n",
       "    </tr>\n",
       "    <tr>\n",
       "      <th>1</th>\n",
       "      <td>Neovison vison</td>\n",
       "      <td>Great Smoky Mountains National Park</td>\n",
       "      <td>77</td>\n",
       "    </tr>\n",
       "    <tr>\n",
       "      <th>2</th>\n",
       "      <td>Prunus subcordata</td>\n",
       "      <td>Yosemite National Park</td>\n",
       "      <td>138</td>\n",
       "    </tr>\n",
       "    <tr>\n",
       "      <th>3</th>\n",
       "      <td>Abutilon theophrasti</td>\n",
       "      <td>Bryce National Park</td>\n",
       "      <td>84</td>\n",
       "    </tr>\n",
       "    <tr>\n",
       "      <th>4</th>\n",
       "      <td>Githopsis specularioides</td>\n",
       "      <td>Great Smoky Mountains National Park</td>\n",
       "      <td>85</td>\n",
       "    </tr>\n",
       "  </tbody>\n",
       "</table>\n",
       "</div>"
      ],
      "text/plain": [
       "            scientific_name                            park_name  observations\n",
       "0        Vicia benghalensis  Great Smoky Mountains National Park            68\n",
       "1            Neovison vison  Great Smoky Mountains National Park            77\n",
       "2         Prunus subcordata               Yosemite National Park           138\n",
       "3      Abutilon theophrasti                  Bryce National Park            84\n",
       "4  Githopsis specularioides  Great Smoky Mountains National Park            85"
      ]
     },
     "execution_count": 18,
     "metadata": {},
     "output_type": "execute_result"
    }
   ],
   "source": [
    "print(observations_df.dtypes)\n",
    "observations_df.head() # prints the first five rows and their datatypes"
   ]
  },
  {
   "cell_type": "code",
   "execution_count": 19,
   "metadata": {},
   "outputs": [
    {
     "name": "stdout",
     "output_type": "stream",
     "text": [
      "scientific_name    0\n",
      "park_name          0\n",
      "observations       0\n",
      "dtype: int64\n"
     ]
    }
   ],
   "source": [
    "print(observations_df.isnull().sum()) # df has no null values"
   ]
  },
  {
   "cell_type": "markdown",
   "metadata": {},
   "source": [
    "The observations data has no null values in any columns."
   ]
  },
  {
   "cell_type": "code",
   "execution_count": 21,
   "metadata": {},
   "outputs": [
    {
     "name": "stdout",
     "output_type": "stream",
     "text": [
      "Total number of species: 5541\n"
     ]
    }
   ],
   "source": [
    "print(f\"Total number of species: {observations_df.scientific_name.nunique()}\")"
   ]
  },
  {
   "cell_type": "markdown",
   "metadata": {},
   "source": [
    "Similar to the species df there are 5541 different kinds of species. Both files likley have the same species."
   ]
  },
  {
   "cell_type": "code",
   "execution_count": 23,
   "metadata": {},
   "outputs": [
    {
     "name": "stdout",
     "output_type": "stream",
     "text": [
      "Parks: ['Great Smoky Mountains National Park' 'Yosemite National Park'\n",
      " 'Bryce National Park' 'Yellowstone National Park']\n"
     ]
    }
   ],
   "source": [
    "print(f\"Parks: {observations_df.park_name.unique()}\")"
   ]
  },
  {
   "cell_type": "markdown",
   "metadata": {},
   "source": [
    "There are `four different parks` in the observation data:\n",
    "\n",
    "- Great Smoky Mountains National Park \n",
    "- Yosemite National Park\n",
    "- Bryce National Park\n",
    "- Yellowstone National Park\n"
   ]
  },
  {
   "cell_type": "code",
   "execution_count": 25,
   "metadata": {},
   "outputs": [
    {
     "name": "stdout",
     "output_type": "stream",
     "text": [
      "Total Number of observations: 3314739\n"
     ]
    }
   ],
   "source": [
    "print(f\"Total Number of observations: {observations_df.observations.sum()}\")"
   ]
  },
  {
   "cell_type": "markdown",
   "metadata": {},
   "source": [
    "There are `3,314,739 total observations` of the 5541 species."
   ]
  },
  {
   "cell_type": "markdown",
   "metadata": {},
   "source": [
    "# Analysis of Data\n",
    "\n",
    "In this section, we will answer the questions posed in the introduction and search for any trends. \n",
    "We will also look at many distributions found in the data."
   ]
  },
  {
   "cell_type": "markdown",
   "metadata": {},
   "source": [
    "## Distribution of species and conservation status"
   ]
  },
  {
   "cell_type": "code",
   "execution_count": 104,
   "metadata": {},
   "outputs": [
    {
     "data": {
      "text/plain": [
       "category\n",
       "Vascular Plant       4470\n",
       "Bird                  521\n",
       "Nonvascular Plant     333\n",
       "Mammal                214\n",
       "Fish                  127\n",
       "Amphibian              80\n",
       "Reptile                79\n",
       "Name: count, dtype: int64"
      ]
     },
     "execution_count": 104,
     "metadata": {},
     "output_type": "execute_result"
    }
   ],
   "source": [
    "category_list_counts = species_df['category'].value_counts() # a list of the count of each animals category\n",
    "category_list_counts"
   ]
  },
  {
   "cell_type": "markdown",
   "metadata": {},
   "source": [
    "Vascular plants are the most common category with reptiles being the least. To better see this distribution refer to the graph below."
   ]
  },
  {
   "cell_type": "code",
   "execution_count": 31,
   "metadata": {},
   "outputs": [
    {
     "data": {
      "image/png": "[encoded data removed]",
      "text/plain": [
       "<Figure size 640x480 with 1 Axes>"
      ]
     },
     "metadata": {},
     "output_type": "display_data"
    }
   ],
   "source": [
    "plt.bar(category_list_counts.index, category_list_counts.values)\n",
    "plt.xticks(rotation=45)\n",
    "plt.xlabel(\"Species Category\")\n",
    "plt.title(\"Species Distribution\")\n",
    "\n",
    "plt.show()\n",
    "plt.close()"
   ]
  },
  {
   "cell_type": "code",
   "execution_count": 32,
   "metadata": {},
   "outputs": [
    {
     "data": {
      "text/plain": [
       "conservation_status\n",
       "Species of Concern    161\n",
       "Endangered             16\n",
       "Threatened             10\n",
       "In Recovery             4\n",
       "Name: count, dtype: int64"
      ]
     },
     "execution_count": 32,
     "metadata": {},
     "output_type": "execute_result"
    }
   ],
   "source": [
    "conservation_count_list = species_df['conservation_status'].value_counts() # a list of the counts of conservation statuses\n",
    "conservation_count_list"
   ]
  },
  {
   "cell_type": "markdown",
   "metadata": {},
   "source": [
    "Of the 191 not null values in conservation status 161 are species of concern. To see the distribution of conservation satuts refer to the graph below."
   ]
  },
  {
   "cell_type": "code",
   "execution_count": 34,
   "metadata": {},
   "outputs": [
    {
     "data": {
      "image/png": "[encoded data removed]",
      "text/plain": [
       "<Figure size 640x480 with 1 Axes>"
      ]
     },
     "metadata": {},
     "output_type": "display_data"
    }
   ],
   "source": [
    "plt.bar(conservation_count_list.index, conservation_count_list.values)\n",
    "plt.title(\"Conservation Status Distribution\")\n",
    "plt.xlabel(\"Conservation Status\")\n",
    "plt.show()\n",
    "plt.close() "
   ]
  },
  {
   "cell_type": "markdown",
   "metadata": {},
   "source": [
    "## What is the distribution of the conservation status of the animals?\n",
    "This was the first question posed in the introduction. We will use the graph below to answer it."
   ]
  },
  {
   "cell_type": "markdown",
   "metadata": {},
   "source": [
    "To easily see the distribution of conservation status of the animals. We can use a stacked bar plot.\n",
    "\n",
    "First, we will create a contingency table to graph a stacked bar plot with pandas."
   ]
  },
  {
   "cell_type": "code",
   "execution_count": 37,
   "metadata": {},
   "outputs": [
    {
     "data": {
      "text/html": [
       "<div>\n",
       "<style scoped>\n",
       "    .dataframe tbody tr th:only-of-type {\n",
       "        vertical-align: middle;\n",
       "    }\n",
       "\n",
       "    .dataframe tbody tr th {\n",
       "        vertical-align: top;\n",
       "    }\n",
       "\n",
       "    .dataframe thead th {\n",
       "        text-align: right;\n",
       "    }\n",
       "</style>\n",
       "<table border=\"1\" class=\"dataframe\">\n",
       "  <thead>\n",
       "    <tr style=\"text-align: right;\">\n",
       "      <th>category</th>\n",
       "      <th>Amphibian</th>\n",
       "      <th>Bird</th>\n",
       "      <th>Fish</th>\n",
       "      <th>Mammal</th>\n",
       "      <th>Nonvascular Plant</th>\n",
       "      <th>Reptile</th>\n",
       "      <th>Vascular Plant</th>\n",
       "    </tr>\n",
       "    <tr>\n",
       "      <th>conservation_status</th>\n",
       "      <th></th>\n",
       "      <th></th>\n",
       "      <th></th>\n",
       "      <th></th>\n",
       "      <th></th>\n",
       "      <th></th>\n",
       "      <th></th>\n",
       "    </tr>\n",
       "  </thead>\n",
       "  <tbody>\n",
       "    <tr>\n",
       "      <th>Endangered</th>\n",
       "      <td>1</td>\n",
       "      <td>4</td>\n",
       "      <td>3</td>\n",
       "      <td>7</td>\n",
       "      <td>0</td>\n",
       "      <td>0</td>\n",
       "      <td>1</td>\n",
       "    </tr>\n",
       "    <tr>\n",
       "      <th>In Recovery</th>\n",
       "      <td>0</td>\n",
       "      <td>3</td>\n",
       "      <td>0</td>\n",
       "      <td>1</td>\n",
       "      <td>0</td>\n",
       "      <td>0</td>\n",
       "      <td>0</td>\n",
       "    </tr>\n",
       "    <tr>\n",
       "      <th>Species of Concern</th>\n",
       "      <td>4</td>\n",
       "      <td>72</td>\n",
       "      <td>4</td>\n",
       "      <td>28</td>\n",
       "      <td>5</td>\n",
       "      <td>5</td>\n",
       "      <td>43</td>\n",
       "    </tr>\n",
       "    <tr>\n",
       "      <th>Threatened</th>\n",
       "      <td>2</td>\n",
       "      <td>0</td>\n",
       "      <td>4</td>\n",
       "      <td>2</td>\n",
       "      <td>0</td>\n",
       "      <td>0</td>\n",
       "      <td>2</td>\n",
       "    </tr>\n",
       "  </tbody>\n",
       "</table>\n",
       "</div>"
      ],
      "text/plain": [
       "category             Amphibian  Bird  Fish  Mammal  Nonvascular Plant  \\\n",
       "conservation_status                                                     \n",
       "Endangered                   1     4     3       7                  0   \n",
       "In Recovery                  0     3     0       1                  0   \n",
       "Species of Concern           4    72     4      28                  5   \n",
       "Threatened                   2     0     4       2                  0   \n",
       "\n",
       "category             Reptile  Vascular Plant  \n",
       "conservation_status                           \n",
       "Endangered                 0               1  \n",
       "In Recovery                0               0  \n",
       "Species of Concern         5              43  \n",
       "Threatened                 0               2  "
      ]
     },
     "execution_count": 37,
     "metadata": {},
     "output_type": "execute_result"
    }
   ],
   "source": [
    "table = pd.crosstab(species_df['conservation_status'], species_df['category'])\n",
    "table"
   ]
  },
  {
   "cell_type": "code",
   "execution_count": 38,
   "metadata": {},
   "outputs": [
    {
     "data": {
      "image/png": "[encoded data removed]",
      "text/plain": [
       "<Figure size 640x480 with 1 Axes>"
      ]
     },
     "metadata": {},
     "output_type": "display_data"
    }
   ],
   "source": [
    "table.plot(kind='bar', stacked=True)\n",
    "plt.title(\"Conservation Status of Each Species\")\n",
    "plt.xlabel(\"Conservation status\")\n",
    "plt.show()\n",
    "plt.close()"
   ]
  },
  {
   "cell_type": "markdown",
   "metadata": {},
   "source": [
    "The most common conservation status is species of concern by a large margin. We found earlier that 161 of the 191 species with a conservation were species of concern. \n",
    "\n",
    "Based on the plot the `most common category in species of concern` are `Birds, Vascular plants and Mammals`.\n",
    "\n",
    "This insight may be used to help us understand trends over time. For example, if this analysis was conducted at a future date and the most common species of concern switched from birds to fish. \n",
    "We could then try to understand what may be causing fish to become a species of concern and work to prevent it."
   ]
  },
  {
   "cell_type": "markdown",
   "metadata": {},
   "source": [
    "## What is the distribution of endangered species?\n",
    "This is the second question in the introduction."
   ]
  },
  {
   "cell_type": "markdown",
   "metadata": {},
   "source": [
    "To answer this question we can create a subset a data. This subset will only have animals with the endangered conservation status."
   ]
  },
  {
   "cell_type": "code",
   "execution_count": 42,
   "metadata": {},
   "outputs": [
    {
     "data": {
      "text/html": [
       "<div>\n",
       "<style scoped>\n",
       "    .dataframe tbody tr th:only-of-type {\n",
       "        vertical-align: middle;\n",
       "    }\n",
       "\n",
       "    .dataframe tbody tr th {\n",
       "        vertical-align: top;\n",
       "    }\n",
       "\n",
       "    .dataframe thead th {\n",
       "        text-align: right;\n",
       "    }\n",
       "</style>\n",
       "<table border=\"1\" class=\"dataframe\">\n",
       "  <thead>\n",
       "    <tr style=\"text-align: right;\">\n",
       "      <th></th>\n",
       "      <th>index</th>\n",
       "      <th>category</th>\n",
       "      <th>scientific_name</th>\n",
       "      <th>common_names</th>\n",
       "      <th>conservation_status</th>\n",
       "    </tr>\n",
       "  </thead>\n",
       "  <tbody>\n",
       "    <tr>\n",
       "      <th>0</th>\n",
       "      <td>8</td>\n",
       "      <td>Mammal</td>\n",
       "      <td>Canis lupus</td>\n",
       "      <td>Gray Wolf</td>\n",
       "      <td>Endangered</td>\n",
       "    </tr>\n",
       "    <tr>\n",
       "      <th>1</th>\n",
       "      <td>9</td>\n",
       "      <td>Mammal</td>\n",
       "      <td>Canis rufus</td>\n",
       "      <td>Red Wolf</td>\n",
       "      <td>Endangered</td>\n",
       "    </tr>\n",
       "    <tr>\n",
       "      <th>2</th>\n",
       "      <td>34</td>\n",
       "      <td>Mammal</td>\n",
       "      <td>Myotis grisescens</td>\n",
       "      <td>Gray Myotis</td>\n",
       "      <td>Endangered</td>\n",
       "    </tr>\n",
       "    <tr>\n",
       "      <th>3</th>\n",
       "      <td>39</td>\n",
       "      <td>Mammal</td>\n",
       "      <td>Myotis sodalis</td>\n",
       "      <td>Indiana Bat, Indiana Or Social Myotis</td>\n",
       "      <td>Endangered</td>\n",
       "    </tr>\n",
       "    <tr>\n",
       "      <th>4</th>\n",
       "      <td>72</td>\n",
       "      <td>Mammal</td>\n",
       "      <td>Glaucomys sabrinus coloratus</td>\n",
       "      <td>Carolina Northern Flying Squirrel, Northern Fl...</td>\n",
       "      <td>Endangered</td>\n",
       "    </tr>\n",
       "    <tr>\n",
       "      <th>5</th>\n",
       "      <td>173</td>\n",
       "      <td>Bird</td>\n",
       "      <td>Grus americana</td>\n",
       "      <td>Whooping Crane</td>\n",
       "      <td>Endangered</td>\n",
       "    </tr>\n",
       "    <tr>\n",
       "      <th>6</th>\n",
       "      <td>276</td>\n",
       "      <td>Bird</td>\n",
       "      <td>Vermivora bachmanii</td>\n",
       "      <td>Bachman's Warbler, Bachman's Wood Warbler</td>\n",
       "      <td>Endangered</td>\n",
       "    </tr>\n",
       "    <tr>\n",
       "      <th>7</th>\n",
       "      <td>343</td>\n",
       "      <td>Bird</td>\n",
       "      <td>Picoides borealis</td>\n",
       "      <td>Red-Cockaded Woodpecker</td>\n",
       "      <td>Endangered</td>\n",
       "    </tr>\n",
       "    <tr>\n",
       "      <th>8</th>\n",
       "      <td>540</td>\n",
       "      <td>Fish</td>\n",
       "      <td>Etheostoma percnurum</td>\n",
       "      <td>Duskytail Darter</td>\n",
       "      <td>Endangered</td>\n",
       "    </tr>\n",
       "    <tr>\n",
       "      <th>9</th>\n",
       "      <td>570</td>\n",
       "      <td>Fish</td>\n",
       "      <td>Noturus baileyi</td>\n",
       "      <td>Smoky Madtom</td>\n",
       "      <td>Endangered</td>\n",
       "    </tr>\n",
       "    <tr>\n",
       "      <th>10</th>\n",
       "      <td>2497</td>\n",
       "      <td>Vascular Plant</td>\n",
       "      <td>Geum radiatum</td>\n",
       "      <td>Mountain Avens, Spreading Avens</td>\n",
       "      <td>Endangered</td>\n",
       "    </tr>\n",
       "    <tr>\n",
       "      <th>11</th>\n",
       "      <td>3275</td>\n",
       "      <td>Fish</td>\n",
       "      <td>Chasmistes liorus</td>\n",
       "      <td>June Sucker</td>\n",
       "      <td>Endangered</td>\n",
       "    </tr>\n",
       "    <tr>\n",
       "      <th>12</th>\n",
       "      <td>4446</td>\n",
       "      <td>Mammal</td>\n",
       "      <td>Ovis canadensis sierrae</td>\n",
       "      <td>Sierra Nevada Bighorn Sheep</td>\n",
       "      <td>Endangered</td>\n",
       "    </tr>\n",
       "    <tr>\n",
       "      <th>13</th>\n",
       "      <td>4448</td>\n",
       "      <td>Mammal</td>\n",
       "      <td>Canis lupus</td>\n",
       "      <td>Gray Wolf, Wolf</td>\n",
       "      <td>Endangered</td>\n",
       "    </tr>\n",
       "    <tr>\n",
       "      <th>14</th>\n",
       "      <td>4505</td>\n",
       "      <td>Bird</td>\n",
       "      <td>Gymnogyps californianus</td>\n",
       "      <td>California Condor</td>\n",
       "      <td>Endangered</td>\n",
       "    </tr>\n",
       "    <tr>\n",
       "      <th>15</th>\n",
       "      <td>4601</td>\n",
       "      <td>Amphibian</td>\n",
       "      <td>Rana sierrae</td>\n",
       "      <td>Sierra Nevada Yellow-Legged Frog</td>\n",
       "      <td>Endangered</td>\n",
       "    </tr>\n",
       "  </tbody>\n",
       "</table>\n",
       "</div>"
      ],
      "text/plain": [
       "    index        category               scientific_name  \\\n",
       "0       8          Mammal                   Canis lupus   \n",
       "1       9          Mammal                   Canis rufus   \n",
       "2      34          Mammal             Myotis grisescens   \n",
       "3      39          Mammal                Myotis sodalis   \n",
       "4      72          Mammal  Glaucomys sabrinus coloratus   \n",
       "5     173            Bird                Grus americana   \n",
       "6     276            Bird           Vermivora bachmanii   \n",
       "7     343            Bird             Picoides borealis   \n",
       "8     540            Fish          Etheostoma percnurum   \n",
       "9     570            Fish               Noturus baileyi   \n",
       "10   2497  Vascular Plant                 Geum radiatum   \n",
       "11   3275            Fish             Chasmistes liorus   \n",
       "12   4446          Mammal       Ovis canadensis sierrae   \n",
       "13   4448          Mammal                   Canis lupus   \n",
       "14   4505            Bird       Gymnogyps californianus   \n",
       "15   4601       Amphibian                  Rana sierrae   \n",
       "\n",
       "                                         common_names conservation_status  \n",
       "0                                           Gray Wolf          Endangered  \n",
       "1                                            Red Wolf          Endangered  \n",
       "2                                         Gray Myotis          Endangered  \n",
       "3               Indiana Bat, Indiana Or Social Myotis          Endangered  \n",
       "4   Carolina Northern Flying Squirrel, Northern Fl...          Endangered  \n",
       "5                                      Whooping Crane          Endangered  \n",
       "6           Bachman's Warbler, Bachman's Wood Warbler          Endangered  \n",
       "7                             Red-Cockaded Woodpecker          Endangered  \n",
       "8                                    Duskytail Darter          Endangered  \n",
       "9                                        Smoky Madtom          Endangered  \n",
       "10                    Mountain Avens, Spreading Avens          Endangered  \n",
       "11                                        June Sucker          Endangered  \n",
       "12                        Sierra Nevada Bighorn Sheep          Endangered  \n",
       "13                                    Gray Wolf, Wolf          Endangered  \n",
       "14                                  California Condor          Endangered  \n",
       "15                   Sierra Nevada Yellow-Legged Frog          Endangered  "
      ]
     },
     "execution_count": 42,
     "metadata": {},
     "output_type": "execute_result"
    }
   ],
   "source": [
    "endangered_df_temp = species_df[species_df['conservation_status'] == 'Endangered']\n",
    "endangered_df = endangered_df_temp.copy().reset_index() # a df of endangered species\n",
    "endangered_df"
   ]
  },
  {
   "cell_type": "code",
   "execution_count": 43,
   "metadata": {},
   "outputs": [
    {
     "data": {
      "text/plain": [
       "category\n",
       "Amphibian         1\n",
       "Bird              4\n",
       "Fish              3\n",
       "Mammal            7\n",
       "Vascular Plant    1\n",
       "dtype: int64"
      ]
     },
     "execution_count": 43,
     "metadata": {},
     "output_type": "execute_result"
    }
   ],
   "source": [
    "endangered_species = endangered_df.groupby('category').size()\n",
    "endangered_species"
   ]
  },
  {
   "cell_type": "markdown",
   "metadata": {},
   "source": [
    "We do not have many observations on endangered species. With only 16 total. However, of those 16 mammals are the most endangered having 7.\n",
    "\n",
    "Also notably `there are no reptile or nonvascular plant species that are endangered.`\n",
    "\n",
    "Below is a graph of the distribution of endangered species."
   ]
  },
  {
   "cell_type": "code",
   "execution_count": 45,
   "metadata": {},
   "outputs": [
    {
     "data": {
      "image/png": "[encoded data removed]",
      "text/plain": [
       "<Figure size 640x480 with 1 Axes>"
      ]
     },
     "metadata": {},
     "output_type": "display_data"
    }
   ],
   "source": [
    "plt.bar(endangered_species.index, endangered_species.values)\n",
    "plt.title(\"Distribution of Endangered Species\")\n",
    "plt.xlabel(\"Species\")\n",
    "plt.show()\n",
    "plt.close()"
   ]
  },
  {
   "cell_type": "markdown",
   "metadata": {},
   "source": [
    "## What species were spotted most at each park?\n",
    "This is the third question in the introduction."
   ]
  },
  {
   "cell_type": "markdown",
   "metadata": {},
   "source": [
    "Here I merged the two dataframes and grouped by park name and category. This gives us a new data frame of the number of observations of each species category at each park."
   ]
  },
  {
   "cell_type": "code",
   "execution_count": 48,
   "metadata": {},
   "outputs": [
    {
     "data": {
      "text/html": [
       "<div>\n",
       "<style scoped>\n",
       "    .dataframe tbody tr th:only-of-type {\n",
       "        vertical-align: middle;\n",
       "    }\n",
       "\n",
       "    .dataframe tbody tr th {\n",
       "        vertical-align: top;\n",
       "    }\n",
       "\n",
       "    .dataframe thead th {\n",
       "        text-align: right;\n",
       "    }\n",
       "</style>\n",
       "<table border=\"1\" class=\"dataframe\">\n",
       "  <thead>\n",
       "    <tr style=\"text-align: right;\">\n",
       "      <th></th>\n",
       "      <th>scientific_name</th>\n",
       "      <th>park_name</th>\n",
       "      <th>observations</th>\n",
       "      <th>category</th>\n",
       "      <th>common_names</th>\n",
       "      <th>conservation_status</th>\n",
       "    </tr>\n",
       "  </thead>\n",
       "  <tbody>\n",
       "    <tr>\n",
       "      <th>0</th>\n",
       "      <td>Clethrionomys gapperi gapperi</td>\n",
       "      <td>Bryce National Park</td>\n",
       "      <td>130</td>\n",
       "      <td>Mammal</td>\n",
       "      <td>Gapper's Red-Backed Vole</td>\n",
       "      <td>NaN</td>\n",
       "    </tr>\n",
       "    <tr>\n",
       "      <th>1</th>\n",
       "      <td>Clethrionomys gapperi gapperi</td>\n",
       "      <td>Yellowstone National Park</td>\n",
       "      <td>270</td>\n",
       "      <td>Mammal</td>\n",
       "      <td>Gapper's Red-Backed Vole</td>\n",
       "      <td>NaN</td>\n",
       "    </tr>\n",
       "    <tr>\n",
       "      <th>2</th>\n",
       "      <td>Clethrionomys gapperi gapperi</td>\n",
       "      <td>Great Smoky Mountains National Park</td>\n",
       "      <td>98</td>\n",
       "      <td>Mammal</td>\n",
       "      <td>Gapper's Red-Backed Vole</td>\n",
       "      <td>NaN</td>\n",
       "    </tr>\n",
       "    <tr>\n",
       "      <th>3</th>\n",
       "      <td>Clethrionomys gapperi gapperi</td>\n",
       "      <td>Yosemite National Park</td>\n",
       "      <td>117</td>\n",
       "      <td>Mammal</td>\n",
       "      <td>Gapper's Red-Backed Vole</td>\n",
       "      <td>NaN</td>\n",
       "    </tr>\n",
       "    <tr>\n",
       "      <th>4</th>\n",
       "      <td>Bos bison</td>\n",
       "      <td>Yosemite National Park</td>\n",
       "      <td>128</td>\n",
       "      <td>Mammal</td>\n",
       "      <td>American Bison, Bison</td>\n",
       "      <td>NaN</td>\n",
       "    </tr>\n",
       "    <tr>\n",
       "      <th>...</th>\n",
       "      <td>...</td>\n",
       "      <td>...</td>\n",
       "      <td>...</td>\n",
       "      <td>...</td>\n",
       "      <td>...</td>\n",
       "      <td>...</td>\n",
       "    </tr>\n",
       "    <tr>\n",
       "      <th>25627</th>\n",
       "      <td>Vitis californica</td>\n",
       "      <td>Yellowstone National Park</td>\n",
       "      <td>237</td>\n",
       "      <td>Vascular Plant</td>\n",
       "      <td>California Grape, California Wild Grape</td>\n",
       "      <td>NaN</td>\n",
       "    </tr>\n",
       "    <tr>\n",
       "      <th>25628</th>\n",
       "      <td>Tribulus terrestris</td>\n",
       "      <td>Great Smoky Mountains National Park</td>\n",
       "      <td>50</td>\n",
       "      <td>Vascular Plant</td>\n",
       "      <td>Bullhead, Caltrop, Goathead, Mexican Sandbur, ...</td>\n",
       "      <td>NaN</td>\n",
       "    </tr>\n",
       "    <tr>\n",
       "      <th>25629</th>\n",
       "      <td>Tribulus terrestris</td>\n",
       "      <td>Yellowstone National Park</td>\n",
       "      <td>239</td>\n",
       "      <td>Vascular Plant</td>\n",
       "      <td>Bullhead, Caltrop, Goathead, Mexican Sandbur, ...</td>\n",
       "      <td>NaN</td>\n",
       "    </tr>\n",
       "    <tr>\n",
       "      <th>25630</th>\n",
       "      <td>Tribulus terrestris</td>\n",
       "      <td>Bryce National Park</td>\n",
       "      <td>111</td>\n",
       "      <td>Vascular Plant</td>\n",
       "      <td>Bullhead, Caltrop, Goathead, Mexican Sandbur, ...</td>\n",
       "      <td>NaN</td>\n",
       "    </tr>\n",
       "    <tr>\n",
       "      <th>25631</th>\n",
       "      <td>Tribulus terrestris</td>\n",
       "      <td>Yosemite National Park</td>\n",
       "      <td>156</td>\n",
       "      <td>Vascular Plant</td>\n",
       "      <td>Bullhead, Caltrop, Goathead, Mexican Sandbur, ...</td>\n",
       "      <td>NaN</td>\n",
       "    </tr>\n",
       "  </tbody>\n",
       "</table>\n",
       "<p>25632 rows × 6 columns</p>\n",
       "</div>"
      ],
      "text/plain": [
       "                     scientific_name                            park_name  \\\n",
       "0      Clethrionomys gapperi gapperi                  Bryce National Park   \n",
       "1      Clethrionomys gapperi gapperi            Yellowstone National Park   \n",
       "2      Clethrionomys gapperi gapperi  Great Smoky Mountains National Park   \n",
       "3      Clethrionomys gapperi gapperi               Yosemite National Park   \n",
       "4                          Bos bison               Yosemite National Park   \n",
       "...                              ...                                  ...   \n",
       "25627              Vitis californica            Yellowstone National Park   \n",
       "25628            Tribulus terrestris  Great Smoky Mountains National Park   \n",
       "25629            Tribulus terrestris            Yellowstone National Park   \n",
       "25630            Tribulus terrestris                  Bryce National Park   \n",
       "25631            Tribulus terrestris               Yosemite National Park   \n",
       "\n",
       "       observations        category  \\\n",
       "0               130          Mammal   \n",
       "1               270          Mammal   \n",
       "2                98          Mammal   \n",
       "3               117          Mammal   \n",
       "4               128          Mammal   \n",
       "...             ...             ...   \n",
       "25627           237  Vascular Plant   \n",
       "25628            50  Vascular Plant   \n",
       "25629           239  Vascular Plant   \n",
       "25630           111  Vascular Plant   \n",
       "25631           156  Vascular Plant   \n",
       "\n",
       "                                            common_names conservation_status  \n",
       "0                               Gapper's Red-Backed Vole                 NaN  \n",
       "1                               Gapper's Red-Backed Vole                 NaN  \n",
       "2                               Gapper's Red-Backed Vole                 NaN  \n",
       "3                               Gapper's Red-Backed Vole                 NaN  \n",
       "4                                  American Bison, Bison                 NaN  \n",
       "...                                                  ...                 ...  \n",
       "25627            California Grape, California Wild Grape                 NaN  \n",
       "25628  Bullhead, Caltrop, Goathead, Mexican Sandbur, ...                 NaN  \n",
       "25629  Bullhead, Caltrop, Goathead, Mexican Sandbur, ...                 NaN  \n",
       "25630  Bullhead, Caltrop, Goathead, Mexican Sandbur, ...                 NaN  \n",
       "25631  Bullhead, Caltrop, Goathead, Mexican Sandbur, ...                 NaN  \n",
       "\n",
       "[25632 rows x 6 columns]"
      ]
     },
     "execution_count": 48,
     "metadata": {},
     "output_type": "execute_result"
    }
   ],
   "source": [
    "merged_df = pd.merge(observations_df, species_df, how='right', on='scientific_name') # merges both df. Using a right join\n",
    "merged_df"
   ]
  },
  {
   "cell_type": "markdown",
   "metadata": {},
   "source": [
    "Using the merged df we can group by the park and observation columns. Then take the sum of the observation columns for each park. This will return a df of the number of observations for each species at each park."
   ]
  },
  {
   "cell_type": "code",
   "execution_count": 50,
   "metadata": {},
   "outputs": [
    {
     "data": {
      "text/html": [
       "<div>\n",
       "<style scoped>\n",
       "    .dataframe tbody tr th:only-of-type {\n",
       "        vertical-align: middle;\n",
       "    }\n",
       "\n",
       "    .dataframe tbody tr th {\n",
       "        vertical-align: top;\n",
       "    }\n",
       "\n",
       "    .dataframe thead th {\n",
       "        text-align: right;\n",
       "    }\n",
       "</style>\n",
       "<table border=\"1\" class=\"dataframe\">\n",
       "  <thead>\n",
       "    <tr style=\"text-align: right;\">\n",
       "      <th></th>\n",
       "      <th>park_name</th>\n",
       "      <th>category</th>\n",
       "      <th>observations</th>\n",
       "    </tr>\n",
       "  </thead>\n",
       "  <tbody>\n",
       "    <tr>\n",
       "      <th>0</th>\n",
       "      <td>Bryce National Park</td>\n",
       "      <td>Amphibian</td>\n",
       "      <td>7542</td>\n",
       "    </tr>\n",
       "    <tr>\n",
       "      <th>1</th>\n",
       "      <td>Bryce National Park</td>\n",
       "      <td>Bird</td>\n",
       "      <td>58590</td>\n",
       "    </tr>\n",
       "    <tr>\n",
       "      <th>2</th>\n",
       "      <td>Bryce National Park</td>\n",
       "      <td>Fish</td>\n",
       "      <td>12823</td>\n",
       "    </tr>\n",
       "    <tr>\n",
       "      <th>3</th>\n",
       "      <td>Bryce National Park</td>\n",
       "      <td>Mammal</td>\n",
       "      <td>28830</td>\n",
       "    </tr>\n",
       "    <tr>\n",
       "      <th>4</th>\n",
       "      <td>Bryce National Park</td>\n",
       "      <td>Nonvascular Plant</td>\n",
       "      <td>32992</td>\n",
       "    </tr>\n",
       "    <tr>\n",
       "      <th>5</th>\n",
       "      <td>Bryce National Park</td>\n",
       "      <td>Reptile</td>\n",
       "      <td>8141</td>\n",
       "    </tr>\n",
       "    <tr>\n",
       "      <th>6</th>\n",
       "      <td>Bryce National Park</td>\n",
       "      <td>Vascular Plant</td>\n",
       "      <td>484373</td>\n",
       "    </tr>\n",
       "    <tr>\n",
       "      <th>7</th>\n",
       "      <td>Great Smoky Mountains National Park</td>\n",
       "      <td>Amphibian</td>\n",
       "      <td>5876</td>\n",
       "    </tr>\n",
       "    <tr>\n",
       "      <th>8</th>\n",
       "      <td>Great Smoky Mountains National Park</td>\n",
       "      <td>Bird</td>\n",
       "      <td>42869</td>\n",
       "    </tr>\n",
       "    <tr>\n",
       "      <th>9</th>\n",
       "      <td>Great Smoky Mountains National Park</td>\n",
       "      <td>Fish</td>\n",
       "      <td>9482</td>\n",
       "    </tr>\n",
       "    <tr>\n",
       "      <th>10</th>\n",
       "      <td>Great Smoky Mountains National Park</td>\n",
       "      <td>Mammal</td>\n",
       "      <td>21056</td>\n",
       "    </tr>\n",
       "    <tr>\n",
       "      <th>11</th>\n",
       "      <td>Great Smoky Mountains National Park</td>\n",
       "      <td>Nonvascular Plant</td>\n",
       "      <td>24857</td>\n",
       "    </tr>\n",
       "    <tr>\n",
       "      <th>12</th>\n",
       "      <td>Great Smoky Mountains National Park</td>\n",
       "      <td>Reptile</td>\n",
       "      <td>5841</td>\n",
       "    </tr>\n",
       "    <tr>\n",
       "      <th>13</th>\n",
       "      <td>Great Smoky Mountains National Park</td>\n",
       "      <td>Vascular Plant</td>\n",
       "      <td>364882</td>\n",
       "    </tr>\n",
       "    <tr>\n",
       "      <th>14</th>\n",
       "      <td>Yellowstone National Park</td>\n",
       "      <td>Amphibian</td>\n",
       "      <td>19937</td>\n",
       "    </tr>\n",
       "    <tr>\n",
       "      <th>15</th>\n",
       "      <td>Yellowstone National Park</td>\n",
       "      <td>Bird</td>\n",
       "      <td>144300</td>\n",
       "    </tr>\n",
       "    <tr>\n",
       "      <th>16</th>\n",
       "      <td>Yellowstone National Park</td>\n",
       "      <td>Fish</td>\n",
       "      <td>31459</td>\n",
       "    </tr>\n",
       "    <tr>\n",
       "      <th>17</th>\n",
       "      <td>Yellowstone National Park</td>\n",
       "      <td>Mammal</td>\n",
       "      <td>70701</td>\n",
       "    </tr>\n",
       "    <tr>\n",
       "      <th>18</th>\n",
       "      <td>Yellowstone National Park</td>\n",
       "      <td>Nonvascular Plant</td>\n",
       "      <td>83021</td>\n",
       "    </tr>\n",
       "    <tr>\n",
       "      <th>19</th>\n",
       "      <td>Yellowstone National Park</td>\n",
       "      <td>Reptile</td>\n",
       "      <td>20061</td>\n",
       "    </tr>\n",
       "    <tr>\n",
       "      <th>20</th>\n",
       "      <td>Yellowstone National Park</td>\n",
       "      <td>Vascular Plant</td>\n",
       "      <td>1218162</td>\n",
       "    </tr>\n",
       "    <tr>\n",
       "      <th>21</th>\n",
       "      <td>Yosemite National Park</td>\n",
       "      <td>Amphibian</td>\n",
       "      <td>11713</td>\n",
       "    </tr>\n",
       "    <tr>\n",
       "      <th>22</th>\n",
       "      <td>Yosemite National Park</td>\n",
       "      <td>Bird</td>\n",
       "      <td>86612</td>\n",
       "    </tr>\n",
       "    <tr>\n",
       "      <th>23</th>\n",
       "      <td>Yosemite National Park</td>\n",
       "      <td>Fish</td>\n",
       "      <td>19137</td>\n",
       "    </tr>\n",
       "    <tr>\n",
       "      <th>24</th>\n",
       "      <td>Yosemite National Park</td>\n",
       "      <td>Mammal</td>\n",
       "      <td>42533</td>\n",
       "    </tr>\n",
       "    <tr>\n",
       "      <th>25</th>\n",
       "      <td>Yosemite National Park</td>\n",
       "      <td>Nonvascular Plant</td>\n",
       "      <td>49783</td>\n",
       "    </tr>\n",
       "    <tr>\n",
       "      <th>26</th>\n",
       "      <td>Yosemite National Park</td>\n",
       "      <td>Reptile</td>\n",
       "      <td>11779</td>\n",
       "    </tr>\n",
       "    <tr>\n",
       "      <th>27</th>\n",
       "      <td>Yosemite National Park</td>\n",
       "      <td>Vascular Plant</td>\n",
       "      <td>727895</td>\n",
       "    </tr>\n",
       "  </tbody>\n",
       "</table>\n",
       "</div>"
      ],
      "text/plain": [
       "                              park_name           category  observations\n",
       "0                   Bryce National Park          Amphibian          7542\n",
       "1                   Bryce National Park               Bird         58590\n",
       "2                   Bryce National Park               Fish         12823\n",
       "3                   Bryce National Park             Mammal         28830\n",
       "4                   Bryce National Park  Nonvascular Plant         32992\n",
       "5                   Bryce National Park            Reptile          8141\n",
       "6                   Bryce National Park     Vascular Plant        484373\n",
       "7   Great Smoky Mountains National Park          Amphibian          5876\n",
       "8   Great Smoky Mountains National Park               Bird         42869\n",
       "9   Great Smoky Mountains National Park               Fish          9482\n",
       "10  Great Smoky Mountains National Park             Mammal         21056\n",
       "11  Great Smoky Mountains National Park  Nonvascular Plant         24857\n",
       "12  Great Smoky Mountains National Park            Reptile          5841\n",
       "13  Great Smoky Mountains National Park     Vascular Plant        364882\n",
       "14            Yellowstone National Park          Amphibian         19937\n",
       "15            Yellowstone National Park               Bird        144300\n",
       "16            Yellowstone National Park               Fish         31459\n",
       "17            Yellowstone National Park             Mammal         70701\n",
       "18            Yellowstone National Park  Nonvascular Plant         83021\n",
       "19            Yellowstone National Park            Reptile         20061\n",
       "20            Yellowstone National Park     Vascular Plant       1218162\n",
       "21               Yosemite National Park          Amphibian         11713\n",
       "22               Yosemite National Park               Bird         86612\n",
       "23               Yosemite National Park               Fish         19137\n",
       "24               Yosemite National Park             Mammal         42533\n",
       "25               Yosemite National Park  Nonvascular Plant         49783\n",
       "26               Yosemite National Park            Reptile         11779\n",
       "27               Yosemite National Park     Vascular Plant        727895"
      ]
     },
     "execution_count": 50,
     "metadata": {},
     "output_type": "execute_result"
    }
   ],
   "source": [
    "num_park_observations = merged_df.groupby(['park_name', 'category'])['observations'].sum()\n",
    "num_park_observations = num_park_observations.reset_index() # a df with num observations of each category at each park\n",
    "num_park_observations"
   ]
  },
  {
   "cell_type": "markdown",
   "metadata": {},
   "source": [
    "This data frame can be used for further analysis. To better see the distribution I will graph it. Similar to when we were graphing the distribution of conservation status we will use a stacked bar plot. \n",
    "\n",
    "This time the df can be pivoted."
   ]
  },
  {
   "cell_type": "code",
   "execution_count": 52,
   "metadata": {},
   "outputs": [
    {
     "data": {
      "text/html": [
       "<div>\n",
       "<style scoped>\n",
       "    .dataframe tbody tr th:only-of-type {\n",
       "        vertical-align: middle;\n",
       "    }\n",
       "\n",
       "    .dataframe tbody tr th {\n",
       "        vertical-align: top;\n",
       "    }\n",
       "\n",
       "    .dataframe thead th {\n",
       "        text-align: right;\n",
       "    }\n",
       "</style>\n",
       "<table border=\"1\" class=\"dataframe\">\n",
       "  <thead>\n",
       "    <tr style=\"text-align: right;\">\n",
       "      <th>category</th>\n",
       "      <th>Amphibian</th>\n",
       "      <th>Bird</th>\n",
       "      <th>Fish</th>\n",
       "      <th>Mammal</th>\n",
       "      <th>Nonvascular Plant</th>\n",
       "      <th>Reptile</th>\n",
       "      <th>Vascular Plant</th>\n",
       "    </tr>\n",
       "    <tr>\n",
       "      <th>park_name</th>\n",
       "      <th></th>\n",
       "      <th></th>\n",
       "      <th></th>\n",
       "      <th></th>\n",
       "      <th></th>\n",
       "      <th></th>\n",
       "      <th></th>\n",
       "    </tr>\n",
       "  </thead>\n",
       "  <tbody>\n",
       "    <tr>\n",
       "      <th>Bryce National Park</th>\n",
       "      <td>7542</td>\n",
       "      <td>58590</td>\n",
       "      <td>12823</td>\n",
       "      <td>28830</td>\n",
       "      <td>32992</td>\n",
       "      <td>8141</td>\n",
       "      <td>484373</td>\n",
       "    </tr>\n",
       "    <tr>\n",
       "      <th>Great Smoky Mountains National Park</th>\n",
       "      <td>5876</td>\n",
       "      <td>42869</td>\n",
       "      <td>9482</td>\n",
       "      <td>21056</td>\n",
       "      <td>24857</td>\n",
       "      <td>5841</td>\n",
       "      <td>364882</td>\n",
       "    </tr>\n",
       "    <tr>\n",
       "      <th>Yellowstone National Park</th>\n",
       "      <td>19937</td>\n",
       "      <td>144300</td>\n",
       "      <td>31459</td>\n",
       "      <td>70701</td>\n",
       "      <td>83021</td>\n",
       "      <td>20061</td>\n",
       "      <td>1218162</td>\n",
       "    </tr>\n",
       "    <tr>\n",
       "      <th>Yosemite National Park</th>\n",
       "      <td>11713</td>\n",
       "      <td>86612</td>\n",
       "      <td>19137</td>\n",
       "      <td>42533</td>\n",
       "      <td>49783</td>\n",
       "      <td>11779</td>\n",
       "      <td>727895</td>\n",
       "    </tr>\n",
       "  </tbody>\n",
       "</table>\n",
       "</div>"
      ],
      "text/plain": [
       "category                             Amphibian    Bird   Fish  Mammal  \\\n",
       "park_name                                                               \n",
       "Bryce National Park                       7542   58590  12823   28830   \n",
       "Great Smoky Mountains National Park       5876   42869   9482   21056   \n",
       "Yellowstone National Park                19937  144300  31459   70701   \n",
       "Yosemite National Park                   11713   86612  19137   42533   \n",
       "\n",
       "category                             Nonvascular Plant  Reptile  \\\n",
       "park_name                                                         \n",
       "Bryce National Park                              32992     8141   \n",
       "Great Smoky Mountains National Park              24857     5841   \n",
       "Yellowstone National Park                        83021    20061   \n",
       "Yosemite National Park                           49783    11779   \n",
       "\n",
       "category                             Vascular Plant  \n",
       "park_name                                            \n",
       "Bryce National Park                          484373  \n",
       "Great Smoky Mountains National Park          364882  \n",
       "Yellowstone National Park                   1218162  \n",
       "Yosemite National Park                       727895  "
      ]
     },
     "execution_count": 52,
     "metadata": {},
     "output_type": "execute_result"
    }
   ],
   "source": [
    "# makes a df so each sspecies is its own column. Makes it easier to plot the distribution of species per park\n",
    "pivot_df = num_park_observations.pivot(index='park_name', columns='category', values='observations')\n",
    "pivot_df"
   ]
  },
  {
   "cell_type": "markdown",
   "metadata": {},
   "source": [
    "Each row here is the park with the number of observations for a species category."
   ]
  },
  {
   "cell_type": "code",
   "execution_count": 54,
   "metadata": {},
   "outputs": [
    {
     "data": {
      "image/png": "[encoded data removed]",
      "text/plain": [
       "<Figure size 1000x700 with 1 Axes>"
      ]
     },
     "metadata": {},
     "output_type": "display_data"
    }
   ],
   "source": [
    "from matplotlib.ticker import FuncFormatter\n",
    "\n",
    "pivot_df.plot(kind='bar', stacked=True, figsize=(10,7))\n",
    "plt.xticks(rotation=20)\n",
    "plt.legend(title='Species')\n",
    "\n",
    "plt.title('Observations of Species at Each Park')\n",
    "plt.xlabel('Park')\n",
    "\n",
    "# formats the y-axis as whole numbers instead of scientific notation\n",
    "def y(x, pos):\n",
    "    return f'{int(x):,}'  \n",
    "plt.gca().yaxis.set_major_formatter(FuncFormatter(y))\n",
    "\n",
    "\n",
    "plt.show()\n",
    "plt.close()"
   ]
  },
  {
   "cell_type": "markdown",
   "metadata": {},
   "source": [
    "Yellowstone has the most observations and most of them were vascular plants. In fact, the majority of all observations at each park are vascular plants followed by birds.\n",
    "\n",
    "This graph can be used to determine how each park changes over time. If for example, Yosemite experiences massive sudden loss of plant life. That trend would appear on this graph."
   ]
  },
  {
   "cell_type": "markdown",
   "metadata": {},
   "source": [
    "##  Are the differences between species and their conservation status significant?\n",
    "This is the fourth and final question from the introduction. \n",
    "\n",
    "To answer this question we will use a `chi-square test of independence`."
   ]
  },
  {
   "cell_type": "markdown",
   "metadata": {},
   "source": [
    "First, to preform a chi-square test we need to create a contingency table. "
   ]
  },
  {
   "cell_type": "code",
   "execution_count": 58,
   "metadata": {},
   "outputs": [
    {
     "data": {
      "text/html": [
       "<div>\n",
       "<style scoped>\n",
       "    .dataframe tbody tr th:only-of-type {\n",
       "        vertical-align: middle;\n",
       "    }\n",
       "\n",
       "    .dataframe tbody tr th {\n",
       "        vertical-align: top;\n",
       "    }\n",
       "\n",
       "    .dataframe thead th {\n",
       "        text-align: right;\n",
       "    }\n",
       "</style>\n",
       "<table border=\"1\" class=\"dataframe\">\n",
       "  <thead>\n",
       "    <tr style=\"text-align: right;\">\n",
       "      <th>conservation_status</th>\n",
       "      <th>Endangered</th>\n",
       "      <th>In Recovery</th>\n",
       "      <th>Species of Concern</th>\n",
       "      <th>Threatened</th>\n",
       "    </tr>\n",
       "    <tr>\n",
       "      <th>category</th>\n",
       "      <th></th>\n",
       "      <th></th>\n",
       "      <th></th>\n",
       "      <th></th>\n",
       "    </tr>\n",
       "  </thead>\n",
       "  <tbody>\n",
       "    <tr>\n",
       "      <th>Amphibian</th>\n",
       "      <td>4</td>\n",
       "      <td>0</td>\n",
       "      <td>16</td>\n",
       "      <td>8</td>\n",
       "    </tr>\n",
       "    <tr>\n",
       "      <th>Bird</th>\n",
       "      <td>16</td>\n",
       "      <td>12</td>\n",
       "      <td>320</td>\n",
       "      <td>0</td>\n",
       "    </tr>\n",
       "    <tr>\n",
       "      <th>Fish</th>\n",
       "      <td>12</td>\n",
       "      <td>0</td>\n",
       "      <td>16</td>\n",
       "      <td>20</td>\n",
       "    </tr>\n",
       "    <tr>\n",
       "      <th>Mammal</th>\n",
       "      <td>44</td>\n",
       "      <td>12</td>\n",
       "      <td>168</td>\n",
       "      <td>8</td>\n",
       "    </tr>\n",
       "    <tr>\n",
       "      <th>Nonvascular Plant</th>\n",
       "      <td>0</td>\n",
       "      <td>0</td>\n",
       "      <td>20</td>\n",
       "      <td>0</td>\n",
       "    </tr>\n",
       "    <tr>\n",
       "      <th>Reptile</th>\n",
       "      <td>0</td>\n",
       "      <td>0</td>\n",
       "      <td>20</td>\n",
       "      <td>0</td>\n",
       "    </tr>\n",
       "    <tr>\n",
       "      <th>Vascular Plant</th>\n",
       "      <td>4</td>\n",
       "      <td>0</td>\n",
       "      <td>172</td>\n",
       "      <td>8</td>\n",
       "    </tr>\n",
       "  </tbody>\n",
       "</table>\n",
       "</div>"
      ],
      "text/plain": [
       "conservation_status  Endangered  In Recovery  Species of Concern  Threatened\n",
       "category                                                                    \n",
       "Amphibian                     4            0                  16           8\n",
       "Bird                         16           12                 320           0\n",
       "Fish                         12            0                  16          20\n",
       "Mammal                       44           12                 168           8\n",
       "Nonvascular Plant             0            0                  20           0\n",
       "Reptile                       0            0                  20           0\n",
       "Vascular Plant                4            0                 172           8"
      ]
     },
     "execution_count": 58,
     "metadata": {},
     "output_type": "execute_result"
    }
   ],
   "source": [
    "con_table = pd.crosstab(merged_df['category'], merged_df['conservation_status'])\n",
    "con_table"
   ]
  },
  {
   "cell_type": "markdown",
   "metadata": {},
   "source": [
    "A good rule of thumb is that all cells have a count of 5 or more. We have 2 cells that have a count of 4. For this project, we will ignore this rule of thumb. See Conclusion.\n",
    "\n",
    "Now that we have a contingency table we can perform the test. \n",
    "\n",
    " `The null hypothesis is that no association exists between species and conservation status. The distribution of conservation status is the same across all categories.`\n",
    "\n",
    " `The alternative hypothesis is that an association does exist. The distribution of conservation status varies across categories.`\n",
    "\n",
    "The level of significance for this test is 5% or 0.05."
   ]
  },
  {
   "cell_type": "code",
   "execution_count": 60,
   "metadata": {},
   "outputs": [
    {
     "name": "stdout",
     "output_type": "stream",
     "text": [
      "Test_Stat: 281.6928573184134\n",
      "p-value: 2.7594442674479634e-49\n"
     ]
    }
   ],
   "source": [
    "import scipy.stats as stats\n",
    "\n",
    "test_stat, p_value, dof, expected = stats.chi2_contingency(con_table)\n",
    "print(f\"Test_Stat: {test_stat}\")\n",
    "print(f\"p-value: {p_value}\")"
   ]
  },
  {
   "cell_type": "markdown",
   "metadata": {},
   "source": [
    "Our p-value is close to 0. Much less than 0.05. \n",
    "\n",
    "This means that we reject the null hypothesis in favor of the alternative. \n",
    "\n",
    "`Practically speaking this means that the difference between species and their conservation status is significant.`"
   ]
  },
  {
   "cell_type": "markdown",
   "metadata": {},
   "source": [
    "# Conclusion"
   ]
  },
  {
   "cell_type": "markdown",
   "metadata": {},
   "source": [
    "In this project, many visualizations were made to help us make inferences and conclusions based on the data.\n",
    "\n",
    "The visualizations and trends discovered in this project may be used for benchmarking and further research. \n",
    "This project can help us understand what types of species are most common in these parks and which are in conservation.\n"
   ]
  },
  {
   "cell_type": "markdown",
   "metadata": {},
   "source": [
    "We were able to answer all four of the questions that were asked.\n",
    "\n",
    "`What is the distribution of conservation status of the animals?`\n",
    "\n",
    "Most of the animals had no conservation status at all. Of the 5824 total rows in the column, only 191 rows or animals had a conservation status.\n",
    "\n",
    "Most animals were species of concern with 161 out of 191. Followed by the endangered category at only 16.\n",
    "The most common animals in species of concern were birds, vascular plants, and mammals. This makes sense as these are some of the most frequent animals in the species dataset.\n",
    "   \n",
    "`What is the distribution of endangered species?`\n",
    "\n",
    "Mammals and birds were the most likely. Interestingly, there were no reptile or nonvascular plant species that were endangered in the data.\n",
    "   \n",
    "`What species were spotted most at each park?`\n",
    "\n",
    "The most spotted species at all of the parks were vascular plants followed by birds. Again this makes sense as they're some of the most frequent in the data.\n",
    "Yellowstone Park had the most number of observations. \n",
    "   \n",
    "`Are the differences between species and their conservation status significant?`\n",
    "\n",
    "Yes, the difference between species and their conservation status is statistically significant.\n",
    "   "
   ]
  },
  {
   "cell_type": "markdown",
   "metadata": {},
   "source": [
    "I expected some of these results. Plants make sense being the most common in the dataset. Many of these parks have forests. What surprised me was that most of the animals had no conservation status. Which is a good thing in the grand scene of things(if NAN means no conservation status). I also expected the difference between species and conservation status to be significant because many species face different threats and are affected differently by changes in their environment."
   ]
  },
  {
   "cell_type": "markdown",
   "metadata": {},
   "source": [
    "## Further Analysis and Pitfalls\n",
    "\n",
    "This project can be expanded upon. In any of the questions asked the `common name` and `scientific name` columns were not used. They may be used to analyze the exact animal distribution instead of the exact category. For example, we could look at the distribution of bird species in Yellowstone Park. Or we could have looked at the exact distribution of animals that had a conservation status. However, this is beyond the scope of this project. \n",
    "\n",
    "More data is needed on endangered species. With only 16 animals in the data, it is not enough to create a definite answer. Perhaps, there are just not that many animals that are endangered which is a good thing. To better determine if species are more likely to be or become endangered statistical methods should be used. However, that is beyond the scope of this project.\n",
    "\n",
    "The data used in this project may also be expanded upon or improved. In the conservation status column, a placeholder for no conservation status should be used. It is impossible to know which values are missing and which ones were left out intentionally. Adding a status that is clear like `No Intervention` would be useful. Then the Nan values would be more meaningful as missing.\n",
    "\n",
    "In the section, the contingency table was created for the chi-square test. Instead of ignoring the 5-count rule. The threatened and endangered categories could have been combined. However, for the scope of this project, 4 was sufficiently close to 5."
   ]
  },
  {
   "cell_type": "code",
   "execution_count": null,
   "metadata": {},
   "outputs": [],
   "source": []
  }
 ],
 "metadata": {
  "kernelspec": {
   "display_name": "Python 3 (ipykernel)",
   "language": "python",
   "name": "python3"
  },
  "language_info": {
   "codemirror_mode": {
    "name": "ipython",
    "version": 3
   },
   "file_extension": ".py",
   "mimetype": "text/x-python",
   "name": "python",
   "nbconvert_exporter": "python",
   "pygments_lexer": "ipython3",
   "version": "3.11.7"
  }
 },
 "nbformat": 4,
 "nbformat_minor": 4
}
